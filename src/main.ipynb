{
 "cells": [
  {
   "cell_type": "code",
   "execution_count": 2,
   "metadata": {},
   "outputs": [],
   "source": [
    "import numpy as np\n",
    "np.random.seed(4203030)\n",
    "\n",
    "\n",
    "class material:\n",
    "    def __init__(self,name:str,sigma_a:float,sigma_s:float,sigma_f:float,nu:float):\n",
    "        \n",
    "        self.name=name\n",
    "        self.sigma_a=sigma_a\n",
    "        self.sigma_s=sigma_s\n",
    "        self.sigma_f=sigma_f\n",
    "        self.nu=nu\n",
    "\n",
    "        self.total_cross_section=self.sigma_a+self.sigma_f+sigma_s\n",
    "\n",
    "\n",
    "class source:\n",
    "\n",
    "    def __init__(self,type:str,r:float):\n",
    "        self.r=r     \n",
    "\n",
    "\n",
    "\n",
    "def sample_initial_neutrons(number_of_neutrons,source:object):\n",
    "    \"\"\" \n",
    "    will accept the number of neutrons and send their sampled x,y position. \n",
    "    \n",
    "    \"\"\"\n",
    "    x=np.zeros(number_of_neutrons)\n",
    "    y=np.zeros_like(x)\n",
    "\n",
    "    for i in range (number_of_neutrons):\n",
    "        x[i]=source.r*(np.random.rand()*2-1)\n",
    "        y[i]=source.r*(np.random.rand()*2-1)\n",
    "\n",
    "    return x,y    "
   ]
  },
  {
   "cell_type": "code",
   "execution_count": 3,
   "metadata": {},
   "outputs": [],
   "source": [
    "\n",
    "\n",
    "X_left=0\n",
    "X_right=10\n",
    "\n",
    "Y_up=10\n",
    "Y_down=0\n",
    "\n",
    "Nx=100\n",
    "Ny=Nx\n",
    "\n",
    "dx=(X_right-X_left)/Nx\n",
    "dy=(Y_up-Y_down)/Ny\n",
    "\n",
    "X = np.linspace(dx*0.5, (X_right-X_left) - 0.5*dx,Nx)\n",
    "Y = np.linspace(dx*0.5, (Y_up-Y_down) - 0.5*dx,Ny)\n",
    "\n",
    "X,Y=np.meshgrid(X,Y)"
   ]
  },
  {
   "cell_type": "code",
   "execution_count": null,
   "metadata": {},
   "outputs": [],
   "source": [
    "uo2=material(name='fuel',sigma_a=0.2,sigma_f=.3,sigma_s=3,nu=2.5)\n",
    "h20=material"
   ]
  },
  {
   "cell_type": "code",
   "execution_count": 4,
   "metadata": {},
   "outputs": [],
   "source": [
    "active_batch=100\n",
    "inactive_batch=50\n",
    "no_of_gen_per_batch=5\n",
    "number_of_neutrons=10000\n",
    "\n",
    "total_batch=active_batch+inactive_batch\n",
    "\n",
    "scalar_flux = np.zeros((Nx,Ny))\n",
    "scalar_flux_tl = np.zeros_like (scalar_flux)\n",
    "weights=np.ones(number_of_neutrons)"
   ]
  },
  {
   "cell_type": "code",
   "execution_count": null,
   "metadata": {},
   "outputs": [],
   "source": [
    "for batch in range (active_batch+inactive_batch):\n",
    "\n",
    "    for g in range( no_of_gen_per_batch):\n",
    "\n",
    "        for n in range(number_of_neutrons):\n",
    "\n",
    "            pos=get_particle_pos(n)\n",
    "            alive=True\n",
    "            while alive: \n",
    "\n",
    "                ''' sample distance first'''\n",
    "                material=find_mat(pos)\n",
    "                rand_num=np.random.rand()\n",
    "                l=-np.log(rand_num)/\n",
    "                pass "
   ]
  },
  {
   "cell_type": "code",
   "execution_count": null,
   "metadata": {},
   "outputs": [],
   "source": []
  },
  {
   "cell_type": "code",
   "execution_count": null,
   "metadata": {},
   "outputs": [],
   "source": []
  }
 ],
 "metadata": {
  "kernelspec": {
   "display_name": "Python 3",
   "language": "python",
   "name": "python3"
  },
  "language_info": {
   "codemirror_mode": {
    "name": "ipython",
    "version": 3
   },
   "file_extension": ".py",
   "mimetype": "text/x-python",
   "name": "python",
   "nbconvert_exporter": "python",
   "pygments_lexer": "ipython3",
   "version": "3.10.12"
  }
 },
 "nbformat": 4,
 "nbformat_minor": 2
}
