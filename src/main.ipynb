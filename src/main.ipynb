{
 "cells": [
  {
   "cell_type": "code",
   "execution_count": 84,
   "metadata": {},
   "outputs": [],
   "source": [
    "class material:\n",
    "    def __init__(self,name:str,sigma_a,sigma_s,sigma_f,nu):\n",
    "        \n",
    "        self.name=name\n",
    "        self.sigma_a=sigma_a\n",
    "        self.sigma_s=sigma_s\n",
    "        self.sigma_f=sigma_f\n",
    "        self.nu=nu\n",
    "\n",
    "        self.total_cross_section=self.sigma_a+self.sigma_f+sigma_s"
   ]
  },
  {
   "cell_type": "code",
   "execution_count": 85,
   "metadata": {},
   "outputs": [],
   "source": [
    "#design section \n",
    "import numpy as np\n",
    "\n",
    "\n",
    "\n",
    "\n",
    "X_left=0\n",
    "X_right=10\n",
    "\n",
    "Y_up=10\n",
    "Y_down=0\n",
    "\n",
    "Nx=100\n",
    "Ny=Nx\n",
    "\n",
    "dx=(X_right-X_left)/Nx\n",
    "dy=(Y_up-Y_down)/Ny\n",
    "\n",
    "X = np.linspace(dx*0.5, (X_right-X_left) - 0.5*dx,Nx)\n",
    "Y = np.linspace(dx*0.5, (Y_up-Y_down) - 0.5*dx,Ny)\n",
    "\n",
    "X,Y=np.meshgrid(X,Y)"
   ]
  },
  {
   "cell_type": "code",
   "execution_count": 86,
   "metadata": {},
   "outputs": [],
   "source": [
    "active_batch=100\n",
    "inactive_batch=50\n",
    "\n",
    "total_batch=active_batch+inactive_batch\n",
    "\n",
    "scalar_flux = np.zeros((Nx,Ny))\n",
    "scalar_flux_tl = np.zeros_like (scalar_flux)\n"
   ]
  },
  {
   "cell_type": "code",
   "execution_count": 87,
   "metadata": {},
   "outputs": [],
   "source": [
    "number_of_neutrons=10000"
   ]
  },
  {
   "cell_type": "code",
   "execution_count": null,
   "metadata": {},
   "outputs": [],
   "source": [
    "#meshing_part "
   ]
  },
  {
   "cell_type": "code",
   "execution_count": null,
   "metadata": {},
   "outputs": [],
   "source": []
  }
 ],
 "metadata": {
  "kernelspec": {
   "display_name": "Python 3",
   "language": "python",
   "name": "python3"
  },
  "language_info": {
   "codemirror_mode": {
    "name": "ipython",
    "version": 3
   },
   "file_extension": ".py",
   "mimetype": "text/x-python",
   "name": "python",
   "nbconvert_exporter": "python",
   "pygments_lexer": "ipython3",
   "version": "3.10.12"
  }
 },
 "nbformat": 4,
 "nbformat_minor": 2
}
