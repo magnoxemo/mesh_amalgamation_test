{
 "cells": [
  {
   "cell_type": "code",
   "execution_count": null,
   "metadata": {},
   "outputs": [],
   "source": [
    "import numpy as np\n",
    "import matplotlib.pyplot as plt\n",
    "#np.random.seed(4203030)\n",
    "\n",
    "\n",
    "class material:\n",
    "    def __init__(self,name:str,sigma_a:float,sigma_s:float,sigma_f:float,nu:float):\n",
    "        \n",
    "        self.name=name\n",
    "        self.sigma_a=sigma_a\n",
    "        self.sigma_s=sigma_s\n",
    "        self.sigma_f=sigma_f\n",
    "        self.nu=nu\n",
    "\n",
    "        self.sigma_t=self.sigma_a+self.sigma_f+sigma_s\n",
    "\n",
    "\n",
    "class source:\n",
    "    def __init__(self,type:str,r:float):\n",
    "        self.r=r     \n",
    "\n",
    "\n",
    "\n",
    "def sample_initial_neutrons(number_of_neutrons,source:object):\n",
    "    \"\"\" \n",
    "    will accept the number of neutrons and send their sampled x,y position. \n",
    "    \n",
    "    \"\"\"\n",
    "\n",
    "    x=np.random.uniform(-source.r,source.r,size=number_of_neutrons)*np.cos(np.random.uniform(0,np.pi*2,size=number_of_neutrons))\n",
    "    y=np.random.uniform(-source.r,source.r,size=number_of_neutrons)*np.sin(np.random.uniform(0,np.pi*2,size=number_of_neutrons))\n",
    "\n",
    "    return x,y \n",
    "  \n"
   ]
  },
  {
   "cell_type": "code",
   "execution_count": null,
   "metadata": {},
   "outputs": [],
   "source": [
    "\n",
    "\n",
    "X_left=0\n",
    "X_right=10\n",
    "\n",
    "Y_up=10\n",
    "Y_down=0\n",
    "\n",
    "Nx=100\n",
    "Ny=Nx\n",
    "\n",
    "dx=(X_right-X_left)/Nx\n",
    "dy=(Y_up-Y_down)/Ny\n",
    "\n",
    "X = np.linspace(dx*0.5, (X_right-X_left) - 0.5*dx,Nx)\n",
    "Y = np.linspace(dx*0.5, (Y_up-Y_down) - 0.5*dx,Ny)\n",
    "\n",
    "X,Y=np.meshgrid(X,Y)"
   ]
  },
  {
   "cell_type": "code",
   "execution_count": null,
   "metadata": {},
   "outputs": [],
   "source": [
    "uo2=material(name='fuel',sigma_a=0.2,sigma_f=.3,sigma_s=3,nu=2.5)\n",
    "h20=material(name='coolant',sigma_a=.5,sigma_f=0,sigma_s=0.7,nu=0)\n",
    "\n",
    "source=source(type='neutron',r=2)\n",
    "\n",
    "\n",
    "def find_mat(pos):\n",
    "\n",
    "    x=pos[0]\n",
    "    y=pos[1]\n",
    "    \n",
    "    if x**2+y**2<=4:\n",
    "        return uo2\n",
    "    elif(x**2+y**2>4) and abs(x)<=7 and abs (y)<=7 :\n",
    "        return h20\n",
    "    else:\n",
    "        return None"
   ]
  },
  {
   "cell_type": "code",
   "execution_count": null,
   "metadata": {},
   "outputs": [],
   "source": [
    "active_batch=100\n",
    "inactive_batch=50\n",
    "no_of_gen_per_batch=5\n",
    "number_of_neutrons=10000\n",
    "\n",
    "total_batch=active_batch+inactive_batch\n",
    "\n",
    "scalar_flux = np.zeros((Nx,Ny))\n",
    "scalar_flux_tl = np.zeros_like (scalar_flux)\n",
    "weights=np.ones(number_of_neutrons)"
   ]
  },
  {
   "cell_type": "code",
   "execution_count": null,
   "metadata": {},
   "outputs": [],
   "source": [
    "\n",
    "x,y=sample_initial_neutrons(number_of_neutrons=number_of_neutrons,source=source)"
   ]
  },
  {
   "cell_type": "code",
   "execution_count": null,
   "metadata": {},
   "outputs": [],
   "source": [
    "plt.figure(figsize=(10,10))\n",
    "plt.scatter(x,y,color='g')\n",
    "plt.plot(4*np.cos(np.linspace(0,np.pi*2)),4*np.sin(np.linspace(0,np.pi*2)),color='red')\n",
    "plt.xlim(-10,10)\n",
    "plt.ylim(-10,10)"
   ]
  },
  {
   "cell_type": "code",
   "execution_count": null,
   "metadata": {},
   "outputs": [],
   "source": []
  },
  {
   "cell_type": "code",
   "execution_count": null,
   "metadata": {},
   "outputs": [],
   "source": [
    "for batch in range (active_batch+inactive_batch):\n",
    "\n",
    "    for g in range( no_of_gen_per_batch):\n",
    "\n",
    "        for n in range(number_of_neutrons):\n",
    "\n",
    "            pos=np.array([x[n],y[n]])\n",
    "            weight=weights[n]\n",
    "            alive=True\n",
    "            \n",
    "            while alive: \n",
    "\n",
    "                ''' sample distance first'''\n",
    "                material=find_mat(pos)\n",
    "                rand_num=np.random.rand()\n",
    "                l=-np.log(rand_num)/material.sigma_t\n",
    "                \n",
    "                #sample the angualar direction as well\n",
    "                mu=np.random.rand()*2-1\n",
    "                eta=np.sqrt(1-mu**2)\n",
    "\n",
    "                new_pos=pos+l*np.array(mu,eta)\n",
    "\n",
    "                if find_mat(new_pos)==None: \n",
    "                    alive=False\n",
    "                else: \n",
    "                    '''\n",
    "                      now we sample the direction \n",
    "                    '''\n",
    "                    reaction_type=np.random.choice('scattering','capture','fission',p=[material.sigma_s/material.sigma_t,material.sigma_a/material.sigma_t,material.sigma_f/material.sigma_t])\n",
    "                    if reaction_type=='scattering':\n",
    "\n",
    "                        '''\n",
    "                            change particle direction by sampling new mu and eta\n",
    "                        '''\n",
    "                    elif reaction_type=='capture':\n",
    "                        ''' \n",
    "                            kill the particle\n",
    "                        '''\n",
    "                    else: \n",
    "                        ''' as there are only three choice the other one will be fission \n",
    "                            so adjust particle weight and kill the particle \n",
    "                        '''"
   ]
  },
  {
   "cell_type": "code",
   "execution_count": null,
   "metadata": {},
   "outputs": [],
   "source": [
    "np.random.rand()*2-1"
   ]
  },
  {
   "cell_type": "code",
   "execution_count": null,
   "metadata": {},
   "outputs": [],
   "source": []
  }
 ],
 "metadata": {
  "kernelspec": {
   "display_name": "Python 3",
   "language": "python",
   "name": "python3"
  },
  "language_info": {
   "codemirror_mode": {
    "name": "ipython",
    "version": 3
   },
   "file_extension": ".py",
   "mimetype": "text/x-python",
   "name": "python",
   "nbconvert_exporter": "python",
   "pygments_lexer": "ipython3",
   "version": "3.10.12"
  }
 },
 "nbformat": 4,
 "nbformat_minor": 2
}
