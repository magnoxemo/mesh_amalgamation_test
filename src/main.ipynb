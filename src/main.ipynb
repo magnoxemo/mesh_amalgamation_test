{
 "cells": [
  {
   "cell_type": "code",
   "execution_count": 1,
   "metadata": {},
   "outputs": [
    {
     "name": "stderr",
     "output_type": "stream",
     "text": [
      "/usr/local/lib/python3.10/dist-packages/matplotlib/projections/__init__.py:63: UserWarning: Unable to import Axes3D. This may be due to multiple versions of Matplotlib being installed (e.g. as a system package and as a pip package). As a result, the 3D projection is not available.\n",
      "  warnings.warn(\"Unable to import Axes3D. This may be due to multiple versions of \"\n"
     ]
    }
   ],
   "source": [
    "import numpy as np\n",
    "import random\n",
    "import matplotlib.pyplot as plt\n",
    "\n",
    "np.random.seed(42000)\n",
    "\n",
    "\n",
    "class material:\n",
    "    def __init__(self,name:str,sigma_a:float,sigma_s:float,sigma_f:float,nu:float):\n",
    "        \n",
    "        self.name=name\n",
    "        self.sigma_a=sigma_a\n",
    "        self.sigma_s=sigma_s\n",
    "        self.sigma_f=sigma_f\n",
    "        self.nu=nu\n",
    "\n",
    "        self.sigma_t=self.sigma_a+self.sigma_f+sigma_s\n",
    "\n",
    "\n",
    "class source:\n",
    "    def __init__(self,type:str,r:float):\n",
    "        self.r=r     \n",
    "\n",
    "\n",
    "\n",
    "def sample_initial_neutrons(number_of_neutrons,source:object):\n",
    "    \"\"\" \n",
    "    will accept the number of neutrons and send their sampled x,y position. \n",
    "    \n",
    "    \"\"\"\n",
    "    x=np.random.uniform(-source.r,source.r,size=number_of_neutrons)*np.cos(np.random.uniform(0,np.pi*2,size=number_of_neutrons))\n",
    "    y=np.random.uniform(-source.r,source.r,size=number_of_neutrons)*np.sin(np.random.uniform(0,np.pi*2,size=number_of_neutrons))\n",
    "\n",
    "    return x,y \n",
    "\n",
    "\n",
    "\n",
    "\n"
   ]
  },
  {
   "cell_type": "code",
   "execution_count": 2,
   "metadata": {},
   "outputs": [],
   "source": [
    "\n",
    "\n",
    "X_left=0\n",
    "X_right=10\n",
    "\n",
    "Y_up=10\n",
    "Y_down=0\n",
    "\n",
    "Nx=100\n",
    "Ny=Nx\n",
    "\n",
    "dx=(X_right-X_left)/Nx\n",
    "dy=(Y_up-Y_down)/Ny\n",
    "\n",
    "X = np.linspace(dx*0.5, (X_right-X_left) - 0.5*dx,Nx)\n",
    "Y = np.linspace(dx*0.5, (Y_up-Y_down) - 0.5*dx,Ny)\n",
    "\n",
    "X,Y=np.meshgrid(X,Y)"
   ]
  },
  {
   "cell_type": "code",
   "execution_count": 3,
   "metadata": {},
   "outputs": [],
   "source": [
    "uo2=material(name='fuel',sigma_a=0.2,sigma_f=.3,sigma_s=3,nu=2.5)\n",
    "h20=material(name='coolant',sigma_a=.5,sigma_f=0,sigma_s=0.7,nu=0)\n",
    "\n",
    "source=source(type='neutron',r=2)\n",
    "\n",
    "fuel_rad=5\n",
    "\n",
    "def find_mat(pos):\n",
    "\n",
    "    x=pos[0]\n",
    "    y=pos[1]\n",
    "    \n",
    "    if x**2+y**2<=fuel_rad:\n",
    "        return uo2\n",
    "    elif(x**2+y**2>fuel_rad) and abs(x)<=X_right and abs (y)<=Y_up :\n",
    "        return h20\n",
    "    else:\n",
    "        return None\n",
    "    \n",
    "def find_surface_intersection_point(pos,pos_new):\n",
    "\n",
    "    a=pos[0]\n",
    "    b=pos[1]\n",
    "    a_new=pos_new[0]\n",
    "    b_new=pos_new[1]\n",
    "\n",
    "    tol=1e-7\n",
    "\n",
    "    for i in range (100):\n",
    "        x=(a+a_new)/2\n",
    "        y=(b+b_new)/2\n",
    "\n",
    "        if abs(x**2+y**2-fuel_rad)<tol:\n",
    "            break\n",
    "        elif (x**2+y**2-fuel_rad)>0:\n",
    "            a_new=x\n",
    "            b_new=y\n",
    "        elif (x**2+y**2-fuel_rad)<0:\n",
    "            a=x\n",
    "            b=y\n",
    "    return x,y"
   ]
  },
  {
   "cell_type": "code",
   "execution_count": 4,
   "metadata": {},
   "outputs": [],
   "source": [
    "active_batch=100\n",
    "inactive_batch=10\n",
    "no_of_gen_per_batch=2\n",
    "number_of_neutrons=100\n",
    "\n",
    "total_batch=active_batch+inactive_batch\n",
    "\n",
    "scalar_flux = np.zeros((Nx,Ny))\n",
    "scalar_flux_tl = np.zeros_like (scalar_flux)\n",
    "weights=np.ones(number_of_neutrons)"
   ]
  },
  {
   "cell_type": "code",
   "execution_count": 5,
   "metadata": {},
   "outputs": [],
   "source": [
    "\n",
    "x,y=sample_initial_neutrons(number_of_neutrons=number_of_neutrons,source=source)"
   ]
  },
  {
   "cell_type": "code",
   "execution_count": 6,
   "metadata": {},
   "outputs": [
    {
     "data": {
      "text/plain": [
       "(-10.0, 10.0)"
      ]
     },
     "execution_count": 6,
     "metadata": {},
     "output_type": "execute_result"
    },
    {
     "data": {
      "image/png": "[encoded data removed]",
      "text/plain": [
       "<Figure size 720x720 with 1 Axes>"
      ]
     },
     "metadata": {
      "needs_background": "light"
     },
     "output_type": "display_data"
    }
   ],
   "source": [
    "plt.figure(figsize=(10,10))\n",
    "plt.scatter(x,y,color='g')\n",
    "plt.plot(4*np.cos(np.linspace(0,np.pi*2)),4*np.sin(np.linspace(0,np.pi*2)),color='red')\n",
    "plt.xlim(-10,10)\n",
    "plt.ylim(-10,10)"
   ]
  },
  {
   "cell_type": "code",
   "execution_count": 7,
   "metadata": {},
   "outputs": [],
   "source": [
    "\n",
    "fission_sites_x=np.array([])\n",
    "fission_sites_y=np.array([])"
   ]
  },
  {
   "cell_type": "code",
   "execution_count": 8,
   "metadata": {},
   "outputs": [
    {
     "name": "stdout",
     "output_type": "stream",
     "text": [
      "281.25\n",
      "99.75\n",
      "103.5\n",
      "99.6\n",
      "101.25\n",
      "105.75\n",
      "99.2\n",
      "864.4499999999999\n",
      "103.5\n",
      "99.245\n",
      "9940.5\n",
      "99.5\n",
      "112.5\n",
      "99.35\n",
      "105.75\n",
      "1195841.25\n",
      "101.25\n",
      "127.35\n",
      "119.25\n",
      "100.8\n",
      "101.25\n",
      "105.75\n",
      "139.5\n",
      "102.24135\n",
      "115.2\n",
      "103.5\n",
      "99.1715\n",
      "184.04999999999998\n",
      "105.75\n",
      "119.25\n",
      "99.2\n",
      "99.75\n",
      "101.25\n",
      "100.5\n",
      "139.5\n",
      "2461.9441499999994\n",
      "220.5\n",
      "159.74999999999997\n",
      "99.75\n",
      "99.75\n",
      "102.24135\n",
      "108.72404999999999\n",
      "99.75\n",
      "108.45\n",
      "99.6\n",
      "634.8149999999999\n",
      "1192.5000000000002\n",
      "99.6\n",
      "99.2\n",
      "100.5435\n",
      "105.75\n",
      "105.75\n",
      "132959.25\n",
      "101.205\n",
      "1192.4999999999998\n",
      "281.25\n",
      "102.33534915\n",
      "99.0588245\n",
      "99.38134158615\n",
      "100.05\n",
      "2395.35\n",
      "104.4\n",
      "634.8149999999999\n",
      "645.7499999999999\n",
      "99.35\n",
      "140.6745\n",
      "100.5435\n",
      "100.8\n",
      "99.5\n",
      "101.25\n",
      "100.5\n",
      "2395.35\n",
      "119.25\n",
      "127.35\n",
      "1743392299.5\n",
      "105.615\n",
      "99.75\n",
      "115.2\n",
      "184.04999999999998\n",
      "119.25\n",
      "99.2\n",
      "354.15\n",
      "99.75\n",
      "99.2\n",
      "99.084035\n",
      "99.75\n",
      "119.25\n",
      "220.5\n",
      "119.25\n",
      "158.535\n",
      "112.5\n",
      "108.45\n",
      "108.45\n",
      "99.2\n",
      "139.5\n",
      "101.25\n",
      "184.05\n",
      "115.2\n",
      "139.5\n",
      "99.2\n",
      "112.5\n",
      "99.75\n",
      "184.05\n",
      "99.6\n",
      "220.5\n",
      "105.75\n",
      "3379.4999999999995\n",
      "139.5\n",
      "105.75\n",
      "139.5\n"
     ]
    }
   ],
   "source": [
    "for batch in range (active_batch+inactive_batch):\n",
    "\n",
    "    for g in range( no_of_gen_per_batch):\n",
    "\n",
    "        for n in range(number_of_neutrons):\n",
    "\n",
    "            mu=np.random.rand()*2-1\n",
    "            eta=np.sqrt(1-mu**2)\n",
    "            initail_dir=np.array([mu,eta])\n",
    "\n",
    "            weight=weights[n]\n",
    "            weights_old=weights.copy()\n",
    "            alive=True\n",
    "            pos=np.array([x[n],y[n]])\n",
    "\n",
    "\n",
    "            \n",
    "            while alive: \n",
    "\n",
    "                ''' sample distance first'''\n",
    "                material=find_mat(pos)\n",
    "                rand_num=np.random.rand()               \n",
    "                l=-np.log(rand_num)/material.sigma_t\n",
    "\n",
    "                \"\"\" check it the from that position the particle will cross any boundray?\"\"\"\n",
    "                if find_mat(pos)!=find_mat(pos+l*initail_dir):\n",
    "\n",
    "                    '''calculating the boundary crossing position'''\n",
    "                    x_,y_=find_surface_intersection_point(pos=pos,pos_new=(pos+l*initail_dir))\n",
    "                    l=np.sqrt((x_-pos[0])**2+(y_-pos[1])**2)\n",
    "                    \n",
    "                \n",
    "                #sample the angualar direction as well\n",
    "                \n",
    "\n",
    "                if find_mat(pos)==None: \n",
    "                    alive=False\n",
    "                else: \n",
    "                    '''\n",
    "                      now we sample the direction \n",
    "                    '''\n",
    "                    reaction_type=np.random.choice(['scattering','capture','fission'],p=[material.sigma_s/material.sigma_t,material.sigma_a/material.sigma_t,material.sigma_f/material.sigma_t])\n",
    "                    if reaction_type=='scattering':\n",
    "                        '''\n",
    "                            change particle direction by sampling new mu and eta for new direction \n",
    "                        '''\n",
    "                        mu=np.random.rand()*2-1\n",
    "                        eta=np.sqrt(1-mu**2)\n",
    "                        pos=pos+l*initail_dir\n",
    "                        initail_dir=np.array([mu,eta])\n",
    "                        \n",
    "                        weight=weight*material.sigma_s\n",
    "                        x_cell_index=int(pos[0]/dx)\n",
    "                        y_cell_index=int(pos[1]/dy)\n",
    "\n",
    "                        scalar_flux[x_cell_index][y_cell_index]=scalar_flux[x_cell_index][y_cell_index]+weight*l\n",
    "\n",
    "                    elif reaction_type=='capture':\n",
    "                        ''' \n",
    "                            kill the particle\n",
    "                        '''\n",
    "                        weight=weight*material.sigma_a\n",
    "                        alive=False\n",
    "\n",
    "                        np.append(fission_sites_x,pos[0])\n",
    "                        np.append(fission_sites_y,pos[1])\n",
    "                        \n",
    "                    else: \n",
    "                        ''' as there are only three choice the other one will be fission \n",
    "\n",
    "                            1. adjust particle weight and kill the particle\n",
    "                            2. keep the record of the fissoion sites \n",
    "                            3. keep the record of the fission site's weights \n",
    "                        '''\n",
    "                        weight=weight*material.sigma_f*material.nu\n",
    "                        \n",
    "                        fission_sites_x=np.append(fission_sites_x,pos[0])\n",
    "                        fission_sites_y=np.append(fission_sites_y,pos[1])\n",
    "\n",
    "                        alive=False\n",
    "            \n",
    "            weights[n]=weight\n",
    "\n",
    "\n",
    "        for i in range (number_of_neutrons):\n",
    "            x[i]=random.choice(fission_sites_x)\n",
    "            y[i]=random.choice(fission_sites_y)\n",
    "\n",
    "        np.delete(fission_sites_x,0)\n",
    "        np.delete(fission_sites_y,0)\n",
    "\n",
    "    print(sum(weights/weights_old))   \n",
    "    weights=np.ones(number_of_neutrons) \n",
    "    \n"
   ]
  },
  {
   "cell_type": "code",
   "execution_count": 9,
   "metadata": {},
   "outputs": [
    {
     "data": {
      "text/plain": [
       "<matplotlib.image.AxesImage at 0x73ade8082e90>"
      ]
     },
     "execution_count": 9,
     "metadata": {},
     "output_type": "execute_result"
    },
    {
     "data": {
      "image/png": "[encoded data removed]",
      "text/plain": [
       "<Figure size 720x720 with 1 Axes>"
      ]
     },
     "metadata": {
      "needs_background": "light"
     },
     "output_type": "display_data"
    }
   ],
   "source": [
    "import matplotlib.pyplot as plt\n",
    "plt.figure(figsize=(10,10))\n",
    "plt.imshow(scalar_flux)"
   ]
  },
  {
   "cell_type": "code",
   "execution_count": 10,
   "metadata": {},
   "outputs": [
    {
     "data": {
      "text/plain": [
       "array([1., 1., 1., 1., 1., 1., 1., 1., 1., 1., 1., 1., 1., 1., 1., 1., 1.,\n",
       "       1., 1., 1., 1., 1., 1., 1., 1., 1., 1., 1., 1., 1., 1., 1., 1., 1.,\n",
       "       1., 1., 1., 1., 1., 1., 1., 1., 1., 1., 1., 1., 1., 1., 1., 1., 1.,\n",
       "       1., 1., 1., 1., 1., 1., 1., 1., 1., 1., 1., 1., 1., 1., 1., 1., 1.,\n",
       "       1., 1., 1., 1., 1., 1., 1., 1., 1., 1., 1., 1., 1., 1., 1., 1., 1.,\n",
       "       1., 1., 1., 1., 1., 1., 1., 1., 1., 1., 1., 1., 1., 1., 1.])"
      ]
     },
     "execution_count": 10,
     "metadata": {},
     "output_type": "execute_result"
    }
   ],
   "source": [
    "weights"
   ]
  },
  {
   "cell_type": "code",
   "execution_count": null,
   "metadata": {},
   "outputs": [],
   "source": []
  },
  {
   "cell_type": "code",
   "execution_count": null,
   "metadata": {},
   "outputs": [],
   "source": []
  }
 ],
 "metadata": {
  "kernelspec": {
   "display_name": "Python 3",
   "language": "python",
   "name": "python3"
  },
  "language_info": {
   "codemirror_mode": {
    "name": "ipython",
    "version": 3
   },
   "file_extension": ".py",
   "mimetype": "text/x-python",
   "name": "python",
   "nbconvert_exporter": "python",
   "pygments_lexer": "ipython3",
   "version": "3.10.12"
  }
 },
 "nbformat": 4,
 "nbformat_minor": 2
}
